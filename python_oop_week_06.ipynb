{
 "cells": [
  {
   "cell_type": "markdown",
   "metadata": {
    "jupyter": {
     "outputs_hidden": true
    }
   },
   "source": [
    "#Level A\n",
    "##Creating Base Classes and Derived Classes"
   ]
  },
  {
   "cell_type": "code",
   "execution_count": 1,
   "metadata": {},
   "outputs": [
    {
     "name": "stdout",
     "output_type": "stream",
     "text": [
      "Point bases: (<class 'object'>,)\n",
      "Circle bases: (<class '__main__.Point'>,)\n",
      "Circle is a subclass of Point: True\n",
      "Point is a subclass of Circle: False\n",
      "circle is a Point object: True\n",
      "point is a Circle object: False\n",
      "point members:\n",
      "\t {'x': 30, 'y': 50}\n",
      "circle members:\n",
      "\t {'x': 120, 'y': 89, 'radius': 2.7}\n",
      "\n",
      "Area of circle: 22.902210444669596\n"
     ]
    }
   ],
   "source": [
    "import math\n",
    "\n",
    "\n",
    "class Point:\n",
    "    \"\"\"Class that represents geometric point\"\"\"\n",
    "    def __init__(self, x_value=0, y_value=0):\n",
    "        \"\"\"Point constructor takes x and y coordinates\"\"\"\n",
    "\n",
    "        self.x = x_value\n",
    "        self.y = y_value\n",
    "\n",
    "\n",
    "class Circle(Point):\n",
    "    \"\"\"Class that represents a circle\"\"\"\n",
    "    def __init__(self, x=0, y=0, radiusValue=0.0):\n",
    "        \"\"\"Circle constructor takes x and y coordinates of center point and radius\"\"\"\n",
    "\n",
    "        super().__init__(x, y)      # call base-class constructor\n",
    "        self.radius = float(radiusValue)\n",
    "\n",
    "    def area(self):\n",
    "        \"\"\"Computes area of a Circle\"\"\"\n",
    "        return math.pi * self.radius ** 2\n",
    "\n",
    "\n",
    "if __name__ == '__main__':\n",
    "    # examine classes Point and Circle\n",
    "    print(\"Point bases:\", Point.__bases__)\n",
    "    print(\"Circle bases:\", Circle.__bases__)\n",
    "\n",
    "    # demonstrate class relationships with built-in function issubclass\n",
    "    print(\"Circle is a subclass of Point:\", issubclass(Circle, Point))\n",
    "\n",
    "    print(\"Point is a subclass of Circle:\", issubclass(Point, Circle))\n",
    "    point = Point(30, 50)           # create Point object\n",
    "    circle = Circle(120, 89, 2.7)   # create Circle object\n",
    "\n",
    "    # demonstrate object relationship with built-in function isinstance\n",
    "    print(\"circle is a Point object:\", isinstance(circle, Point))\n",
    "    print(\"point is a Circle object:\", isinstance(point, Circle))\n",
    "\n",
    "    # print Point and Circle objects\n",
    "    print(\"point members:\\n\\t\", point.__dict__)\n",
    "    print(\"circle members:\\n\\t\", circle.__dict__)\n",
    "    print(\"\\nArea of circle:\", circle.area())"
   ]
  },
  {
   "cell_type": "markdown",
   "metadata": {},
   "source": [
    "#Level B\n",
    "##Overriding Base-Class Methods in a Derived Class"
   ]
  },
  {
   "cell_type": "code",
   "execution_count": 2,
   "metadata": {},
   "outputs": [
    {
     "name": "stdout",
     "output_type": "stream",
     "text": [
      "Calling __str__ several ways...\n",
      "Bob, Smith is an hourly worker with pay of 400.0\n",
      "Bob, Smith is an hourly worker with pay of 400.0\n",
      "Bob, Smith is an hourly worker with pay of 400.0\n"
     ]
    }
   ],
   "source": [
    "class Employee:\n",
    "    \"\"\"Class to represent an employee\"\"\"\n",
    "\n",
    "    def __init__(self, first, last):\n",
    "        \"\"\"Employee constructor takes first and last name\"\"\"\n",
    "\n",
    "        self.__first_name = first\n",
    "        self.__last_name = last\n",
    "\n",
    "    @property\n",
    "    def first_name(self):\n",
    "        return self.__first_name\n",
    "\n",
    "    @property\n",
    "    def last_name(self):\n",
    "        return self.__last_name\n",
    "\n",
    "    @first_name.setter\n",
    "    def first_name(self, value):\n",
    "        self.__first_name = value\n",
    "\n",
    "    @last_name.setter\n",
    "    def last_name(self, value):\n",
    "        self.__last_name = value\n",
    "\n",
    "    @property\n",
    "    def name(self):\n",
    "        return self.__first_name, self.__last_name\n",
    "\n",
    "    @name.setter\n",
    "    def name(self, value):\n",
    "        self.__first_name = value[0]\n",
    "        self.__last_name = value[-1]\n",
    "\n",
    "    def __str__(self):\n",
    "        \"\"\"String representation of an Employee\"\"\"\n",
    "        return f\"{self.first_name}, {self.last_name}\"\n",
    "\n",
    "\n",
    "class HourlyWorker(Employee):\n",
    "    \"\"\"\"Class to represent an employee paid by hour\"\"\"\n",
    "\n",
    "    def __init__(self, first, last, init_hours, init_wage):\n",
    "        \"\"\"Constructor for HourlyWorker, takes first and last name, initial number of hours and initial wage\"\"\"\n",
    "\n",
    "        super().__init__(first, last)\n",
    "        self.hours = float(init_hours)\n",
    "        self.wage = float(init_wage)\n",
    "\n",
    "    @property\n",
    "    def weekly_pay(self):\n",
    "        \"\"\"Calculates HourlyWorker's weekly pay\"\"\"\n",
    "        return self.hours * self.wage\n",
    "\n",
    "    def __str__(self):\n",
    "        \"\"\"String representation of HourlyWorker\"\"\"\n",
    "        return f\"{super().__str__()} is an hourly worker with pay of {self.weekly_pay}\"\n",
    "\n",
    "\n",
    "if __name__ == '__main__':\n",
    "    hourly = HourlyWorker(\"Bob\", \"Smith\", 40.0, 10.00)\n",
    "    # invoke __str__ method several ways\n",
    "    print(\"Calling __str__ several ways...\")\n",
    "    print(hourly)                       # invoke __str__ implicitly\n",
    "    print(hourly.__str__())             # invoke __str__ explicitly\n",
    "    print(HourlyWorker.__str__(hourly)) # explicit, unbound call"
   ]
  },
  {
   "cell_type": "markdown",
   "metadata": {},
   "source": [
    "#Level C\n",
    ">>Write a Python program that creates an academic group of students.\n",
    ">>The program should provide the ability to add / remove a student to / from the group, as well as a method for finding a student by last name."
   ]
  },
  {
   "cell_type": "code",
   "execution_count": null,
   "metadata": {},
   "outputs": [],
   "source": [
    "class Person:\n",
    "    def __init__(self, first_name, last_name):\n",
    "        pass\n",
    "\n",
    "    def __str__(self):\n",
    "        pass\n",
    "    \n",
    "\n",
    "class Student(Person):\n",
    "    def __init__(self, first_name, last_name, speciality):\n",
    "        super().__init__(first_name, last_name)\n",
    "        self.speciality = speciality\n",
    "\n",
    "    def __str__(self):\n",
    "        pass\n",
    "\n",
    "    \n",
    "class Group:\n",
    "    def __init__(self):\n",
    "        pass\n",
    "\n",
    "    def add_student(self, value):\n",
    "        pass\n",
    "    \n",
    "    def del_student(self, value):\n",
    "        pass\n",
    "    \n",
    "    def find_student(self, value):\n",
    "        pass\n",
    "\n",
    "    def __str__(self):\n",
    "        pass\n",
    "    "
   ]
  }
 ],
 "metadata": {
  "kernelspec": {
   "display_name": "Python 3",
   "language": "python",
   "name": "python3"
  },
  "language_info": {
   "codemirror_mode": {
    "name": "ipython",
    "version": 3
   },
   "file_extension": ".py",
   "mimetype": "text/x-python",
   "name": "python",
   "nbconvert_exporter": "python",
   "pygments_lexer": "ipython3",
   "version": "3.7.3"
  }
 },
 "nbformat": 4,
 "nbformat_minor": 4
}
